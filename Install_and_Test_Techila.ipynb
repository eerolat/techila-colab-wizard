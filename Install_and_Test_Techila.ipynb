{
  "nbformat": 4,
  "nbformat_minor": 0,
  "metadata": {
    "colab": {
      "name": "Install_and_Test_Techila.ipynb",
      "version": "0.3.2",
      "provenance": [],
      "collapsed_sections": []
    },
    "kernelspec": {
      "name": "python3",
      "display_name": "Python 3"
    }
  },
  "cells": [
    {
      "cell_type": "code",
      "metadata": {
        "id": "EcjV8XdWyzp0",
        "colab_type": "code",
        "colab": {}
      },
      "source": [
        "# This Notebook is based on the LinkedIn Blog\n",
        "# \"1000x Speed to Google Colab\"\n",
        "# https://www.linkedin.com/pulse/1000x-speed-google-colab-tuomas-eerola/"
      ],
      "execution_count": 0,
      "outputs": []
    },
    {
      "cell_type": "code",
      "metadata": {
        "id": "tKRufDtI4ZV5",
        "colab_type": "code",
        "colab": {}
      },
      "source": [
        "my_server_ip = '' #@param {type:\"string\"}\n",
        "my_password = ''  #@param {type: \"string\"}\n",
        "!wget --post-data=\"login=admin&password={my_password}\" --no-check-certificate https://{my_server_ip}/gce_downloadsdk.php -O techilasdk.zip\n",
        "!unzip techilasdk.zip\n",
        "\n",
        "%cd /content/techila/lib/python3\n",
        "!python setup.py install\n",
        "!echo \"JVMPATH=/usr/lib/jvm/default-java/lib/server/libjvm.so\" > /content/techila/lib/TechilaDLL.conf"
      ],
      "execution_count": 0,
      "outputs": []
    },
    {
      "cell_type": "code",
      "metadata": {
        "id": "NLgN8oASueAT",
        "colab_type": "code",
        "colab": {}
      },
      "source": [
        "%cd /content/techila/examples/python/Tutorial/1_distribution\n",
        "\n",
        "import run_distribution\n",
        "run_distribution.run_distribution(5)"
      ],
      "execution_count": 0,
      "outputs": []
    }
  ]
}